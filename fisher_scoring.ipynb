{
 "cells": [
  {
   "cell_type": "markdown",
   "metadata": {},
   "source": [
    "## Fisher's Scoring for Logistic Regression\n",
    "\n",
    "In this notebook, we implement Fisher's Scoring by using the Newton-Raphson optimization method to mimize the empirical loss for logistic regression."
   ]
  },
  {
   "cell_type": "markdown",
   "metadata": {},
   "source": [
    "Consider the average empirical loss (the risk) for logistic regression on $m$ training examples, given by\n",
    "\n",
    "$$\n",
    "J(\\theta) = \\frac{1}{m} \\sum_{i=1}^m \\log\\left(1 + e^{-y^{(i)}\\theta^Tx^{(i)}}\\right) = -\\frac{1}{m} \\sum_{i=1}^m \\log(h_\\theta(y^{(i)}x^{(i)}))\n",
    "$$\n",
    "\n",
    "where the output $y^{(i)} \\in \\{-1, 1\\}$, and the hypothesis is of the form $h_\\theta(x) = g(\\theta^T x)$ with $g(z) = 1/(1+e^{-z})$ being the sigmoid function. "
   ]
  },
  {
   "cell_type": "markdown",
   "metadata": {},
   "source": [
    "We start off by finding the gradient of $J(\\theta)$ with respect to the parameter vector $\\theta$. For all $j=\\{1,2,...,n\\}$, \n",
    "\n",
    "$$\\begin{align*}\n",
    "(\\nabla_\\theta J(\\theta))_j = \\frac{\\partial}{\\partial\\theta_j} J(\\theta)\n",
    "&= \\frac{\\partial}{\\partial\\theta_j} \\left[-\\frac{1}{m} \\sum_{i=1}^m \\log(h_\\theta(y^{(i)}x^{(i)}))\\right] \\\\\n",
    "&= \\frac{\\partial}{\\partial\\theta_j} \\left[-\\frac{1}{m} \\sum_{i=1}^m \\log g(y^{(i)}\\theta^T x^{(i)})\\right] \\\\\n",
    "&= -\\frac{1}{m} \\sum_{i=1}^m \\frac{\\partial}{\\partial\\theta_j} \\log g(y^{(i)}\\theta^T x^{(i)}) \\\\\n",
    "&= -\\frac{1}{m} \\sum_{i=1}^m \\left[g(y^{(i)}\\theta^T x^{(i)}) \\right]^{-1} g'(y^{(i)}\\theta^T x^{(i)}) \\frac{\\partial}{\\partial\\theta_j} y^{(i)} \\sum_{k=1}^n \\theta_k x_k^{(i)} \\\\\n",
    "&= -\\frac{1}{m} \\sum_{i=1}^m \\left[g(y^{(i)}\\theta^T x^{(i)}) \\right]^{-1} g(y^{(i)}\\theta^T x^{(i)})\\left[1 - g(y^{(i)}\\theta^T x^{(i)})\\right] y^{(i)}x_j^{(i)} \\\\\n",
    "&= -\\frac{1}{m} \\sum_{i=1}^m \\left[1 - g(y^{(i)}\\theta^T x^{(i)})\\right] y^{(i)}x_j^{(i)},\n",
    "\\end{align*}$$\n",
    "\n",
    "where the fourth equality uses the distributive property of partial differentiation, and the sixth equality uses the convenient fact that for the sigmoid function, $g'(z) = g(z)[1-g(z)]$."
   ]
  },
  {
   "cell_type": "markdown",
   "metadata": {},
   "source": [
    "The next step is to find the Hessian of $J(\\theta)$ with respect to $\\theta$. For all $j, k = \\{1,2,...,n\\}$,\n",
    "\n",
    "$$\\begin{align*}\n",
    "(\\nabla_\\theta^2 J(\\theta))_{jk} = \\frac{\\partial^2}{\\partial\\theta_j\\partial\\theta_k} J(\\theta) &= \n",
    "\\frac{\\partial}{\\partial\\theta_k}\\left[\\frac{\\partial}{\\partial\\theta_j} J(\\theta) \\right] \\\\\n",
    "&= \\frac{\\partial}{\\partial\\theta_k} \\left(-\\frac{1}{m}\\sum_{i=1}^m \\left[1-g(y^{(i)}\\theta^T x^{(i)}\\right] y^{(i)}x_j^{(i)}\\right) \\\\\n",
    "&= -\\frac{1}{m} \\sum_{i=1}^m \\frac{\\partial}{\\partial\\theta_k} \\left[y^{(i)}x_j^{(i)} - y^{(i)}x_j^{(i)}g\\left(y^{(i)}\\theta^T x^{(i)}\\right)\\right] \\\\\n",
    "&= -\\frac{1}{m} \\sum_{i=1}^m \\left[0 - y^{(i)}x_j^{(i)} g'\\left(y^{(i)}\\theta^T x^{(i)}\\right) \\frac{\\partial}{\\partial\\theta_k} y^{(i)} \\sum_{l=1}^n\\theta_l x_l^{(i)} \\right] \\\\\n",
    "&= \\frac{1}{m} \\sum_{i=1}^m g\\left(y^{(i)}\\theta^T x^{(i)}\\right) \\left[1 - g\\left(y^{(i)}\\theta^T x^{(i)}\\right) \\right] (y^{(i)})^2 x_j^{(i)} x_k^{(i)} \\\\\n",
    "&= \\frac{1}{m} \\sum_{i=1}^m g\\left(y^{(i)}\\theta^T x^{(i)}\\right) \\left[1 - g\\left(y^{(i)}\\theta^T x^{(i)}\\right) \\right] x_j^{(i)} x_k^{(i)}, \n",
    "\\end{align*}$$\n",
    "\n",
    "where the fifth equality uses the same property $g'(z) = g(z)\\left[1-g(z)\\right]$ of the sigmoid function. Notice that the expression $x_j^{(i)} x_k^{(i)}$ for all $j, k = \\{1,2,...,n\\}$ corresponds to the outer product between the vectors $x^{(i)}\\left(x^{(i)}\\right)^T$. It follows that the above can be written as\n",
    "\n",
    "$$\n",
    "H = \\nabla_\\theta^2 J(\\theta) = \\frac{1}{m}\\sum_{i=1}^m g\\left(y^{(i)}\\theta^T x^{(i)}\\right) \\left[1 - g\\left(y^{(i)}\\theta^T x^{(i)}\\right) \\right] x^{(i)} \\left(x^{(i)}\\right)^T.\n",
    "$$\n",
    "\n",
    "\n"
   ]
  },
  {
   "cell_type": "markdown",
   "metadata": {},
   "source": [
    "For any minimization algorithm to work on the loss function $J(\\theta)$, $J(\\theta)$ needs to be convex. It turns out that $J(\\theta)$ is convex if its Hessian $H$ is positive semi-definite, which we can easily show. Notice that by definition of the sigmoid function, $0 \\leq g(z) \\leq 1$ for all $z\\in \\mathbb{R}$, and so consequently $0 \\leq g(z)\\left[1-g(z)\\right] \\leq 1$. Now, let $z \\in \\mathbb{R}$ be given. Then,\n",
    "\n",
    "$$\\begin{align*}\n",
    "z^T H z &= z^T \\left(\\frac{1}{m}\\sum_{i=1}^m g\\left(y^{(i)}\\theta^T x^{(i)}\\right) \\left[1 - g\\left(y^{(i)}\\theta^T x^{(i)}\\right) \\right] x^{(i)} \\left(x^{(i)}\\right)^T\\right) z \\\\\n",
    "&= \\frac{1}{m} \\sum_{i=1}^m g\\left(y^{(i)}\\theta^T x^{(i)}\\right) \\left[1 - g\\left(y^{(i)}\\theta^T x^{(i)}\\right) \\right] z^T x^{(i)} \\left(x^{(i)}\\right)^T z \\\\\n",
    "&= \\frac{1}{m} \\sum_{i=1}^m g\\left(y^{(i)}\\theta^T x^{(i)}\\right) \\left[1 - g\\left(y^{(i)}\\theta^T x^{(i)}\\right) \\right] \\left((x^{(i)})^T z\\right)^2 \\geq 0,\n",
    "\\end{align*}$$\n",
    "\n",
    "where the last inequality follows because $0 \\leq g(z)\\left[1-g(z)\\right] \\leq 1$ for all $z\\in \\mathbb{R}$ as noted earlier and $\\left((x^{(i)})^T z\\right)^2$ is always a non-negative quantity. Because $z\\in \\mathbb{R}$ was arbitrary, it follows that $H$ is positive semi-definite, and so $J(\\theta)$ is convex i.e. $J(\\theta)$ has only one (global) minimum."
   ]
  },
  {
   "cell_type": "markdown",
   "metadata": {},
   "source": [
    "Now we are in a position to implement logistic regression on a sample dataset. First, we'll import the following libraries that will be useful."
   ]
  },
  {
   "cell_type": "code",
   "execution_count": 2,
   "metadata": {
    "collapsed": false
   },
   "outputs": [],
   "source": [
    "import numpy as np               # for numerical operations\n",
    "import scipy.special as sp       # for the sigmoid function\n",
    "import matplotlib.pyplot as plt  # to visualize the logistic regression decision boundary"
   ]
  },
  {
   "cell_type": "markdown",
   "metadata": {},
   "source": [
    "Next, we'll read in the input and output files (downloadable from http://cs229.stanford.edu/ps/ps1) as numpy arrays."
   ]
  },
  {
   "cell_type": "code",
   "execution_count": 3,
   "metadata": {
    "collapsed": true
   },
   "outputs": [],
   "source": [
    "X_raw = np.genfromtxt('logistic_x.txt', dtype = float)\n",
    "Y = np.genfromtxt('logistic_y.txt', dtype = float)"
   ]
  },
  {
   "cell_type": "markdown",
   "metadata": {},
   "source": [
    "We'll concatenate a column of 1s to the input array to represent the bias, and visualize the first five rows of the input array i.e. the features of the first five training examples."
   ]
  },
  {
   "cell_type": "code",
   "execution_count": 6,
   "metadata": {
    "collapsed": false,
    "scrolled": true
   },
   "outputs": [
    {
     "name": "stdout",
     "output_type": "stream",
     "text": [
      "[[ 1.          1.3432504  -1.3311479 ]\n",
      " [ 1.          1.8205529  -0.6346681 ]\n",
      " [ 1.          0.98632067 -1.8885762 ]\n",
      " [ 1.          1.9443734  -1.635452  ]\n",
      " [ 1.          0.97673352 -1.3533151 ]]\n"
     ]
    }
   ],
   "source": [
    "X = np.concatenate((np.ones((99, 1)), X_raw), axis = 1)\n",
    "print(X[:5])"
   ]
  },
  {
   "cell_type": "markdown",
   "metadata": {
    "collapsed": true
   },
   "source": [
    "Next, we'll store the number of training examples, and initialize all parameters to zero."
   ]
  },
  {
   "cell_type": "code",
   "execution_count": 8,
   "metadata": {
    "collapsed": true
   },
   "outputs": [],
   "source": [
    "M = X.shape[0]\n",
    "theta = np.zeros(3)  # 2 features plus 1 bias"
   ]
  },
  {
   "cell_type": "markdown",
   "metadata": {},
   "source": [
    "Now, we'll implement the main training loop that performs the parameter update, given by\n",
    "\n",
    "$$\\theta := \\theta - H^{-1}\\nabla_\\theta J(\\theta).$$\n",
    "\n",
    "To avoid nested for loops within each training iteration, we will vectorize the operations by computing the components of the above update rule for all training examples simulatneously. This can be done efficiently using numpy methods, as shown below. Recall that we have derived the gradient and Hessian of the loss function $J(\\theta)$ with respect to the parameter vector $\\theta$ in the workings above."
   ]
  },
  {
   "cell_type": "code",
   "execution_count": 9,
   "metadata": {
    "collapsed": false
   },
   "outputs": [
    {
     "name": "stdout",
     "output_type": "stream",
     "text": [
      "Loss is 0.37472471\n",
      "Loss is 0.33425014\n",
      "Loss is 0.32928120\n",
      "Loss is 0.32914756\n",
      "Loss is 0.32914743\n",
      "Loss is 0.32914743\n",
      "Loss is 0.32914743\n",
      "Loss is 0.32914743\n",
      "Loss is 0.32914743\n",
      "Loss is 0.32914743\n"
     ]
    }
   ],
   "source": [
    "# about 10 training iterations suffice\n",
    "for _ in range(10):\n",
    "    # compute the vectorized output of the sigmoid function\n",
    "    g = sp.expit(Y * np.sum(theta * X, axis = 1))\n",
    "    # compute the gradient using all training examples\n",
    "    grad = -(1/M) * np.sum((np.reshape((np.ones(M) - g) * Y, newshape = (99, 1))) * X, axis = 0)\n",
    "    # use a for loop to construct the hessian using all training examples\n",
    "    mat = np.empty((99, 0))\n",
    "    for j in range(len(theta)):\n",
    "        for k in range(len(theta)):\n",
    "            mat = np.append(mat, X[:,[j]] * X[:,[k]], axis = 1)\n",
    "    hess_flat = (1/M) * np.sum(np.reshape(g * (np.ones(M) - g), newshape = (99, 1)) * mat, axis = 0)\n",
    "    hess = np.reshape(hess_flat, newshape = (len(theta), len(theta)))\n",
    "    # perform parameter update\n",
    "    theta = theta - np.dot(np.linalg.inv(hess), grad)\n",
    "    # compute and print loss\n",
    "    loss = (1/M) * np.sum(np.log(1 + np.exp(-Y * np.sum(theta * X, axis = 1))), axis = 0)\n",
    "    print(\"Loss is %.8f\" % loss)\n"
   ]
  },
  {
   "cell_type": "markdown",
   "metadata": {},
   "source": [
    "As expected, the average empirical loss decreases with each iteration, and seems to converge quickly in under 10 iterations. The trained parameters after 10 iterations are printed below. These correspond to the weights associated with the bias, $x_1$ and $x_2$ respectively."
   ]
  },
  {
   "cell_type": "code",
   "execution_count": 12,
   "metadata": {
    "collapsed": false,
    "scrolled": true
   },
   "outputs": [
    {
     "name": "stdout",
     "output_type": "stream",
     "text": [
      "Trained parameters are (bias first):  [-2.6205116   0.76037154  1.17194674]\n"
     ]
    }
   ],
   "source": [
    "print(\"Trained parameters are (bias first): \", theta)"
   ]
  },
  {
   "cell_type": "markdown",
   "metadata": {},
   "source": [
    "We finish by visualizing the learnt decision boundary along with the training examples and their true classifications."
   ]
  },
  {
   "cell_type": "code",
   "execution_count": 13,
   "metadata": {
    "collapsed": false
   },
   "outputs": [
    {
     "data": {
      "image/png": "[encoded data removed]",
      "text/plain": [
       "<matplotlib.figure.Figure at 0x23c1c545358>"
      ]
     },
     "metadata": {},
     "output_type": "display_data"
    }
   ],
   "source": [
    "# plot classification of training data\n",
    "plt.plot(X[Y==1, 1], X[Y==1 ,2], \"r_\", label = \"-1\")\n",
    "plt.plot(X[Y==-1, 1], X[Y==-1, 2], \"b+\", label = \"+1\")\n",
    "plt.xlabel(\"x1\"); plt.ylabel(\"x2\")\t\n",
    "plt.legend()\n",
    "\n",
    "# define function to plot decision boundary\n",
    "def graph(formula, x_range):\n",
    "    x = np.array(x_range)\n",
    "    y = eval(formula)\n",
    "    plt.plot(x, y, \"g--\")\n",
    "\n",
    "# plot decision boundary and show complete plot\n",
    "graph(formula = \"(1/theta[2]) * (-theta[0] - theta[1] * x)\", x_range = range(0, 9))\n",
    "plt.title(\"Decision boundary for logistic regression\")\n",
    "plt.show()"
   ]
  }
 ],
 "metadata": {
  "kernelspec": {
   "display_name": "Python 3",
   "language": "python",
   "name": "python3"
  },
  "language_info": {
   "codemirror_mode": {
    "name": "ipython",
    "version": 3
   },
   "file_extension": ".py",
   "mimetype": "text/x-python",
   "name": "python",
   "nbconvert_exporter": "python",
   "pygments_lexer": "ipython3",
   "version": "3.6.0"
  }
 },
 "nbformat": 4,
 "nbformat_minor": 2
}
